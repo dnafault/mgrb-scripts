{
 "cells": [
  {
   "cell_type": "code",
   "execution_count": 1,
   "metadata": {},
   "outputs": [
    {
     "name": "stderr",
     "output_type": "stream",
     "text": [
      "Running on Apache Spark version 2.1.0\n",
      "SparkUI available at http://129.94.72.55:4040\n",
      "Welcome to\n",
      "     __  __     <>__\n",
      "    / /_/ /__  __/ /\n",
      "   / __  / _ `/ / /\n",
      "  /_/ /_/\\_,_/_/_/   version 0.1-c72c76d\n"
     ]
    }
   ],
   "source": [
    "from hail import *\n",
    "hc = HailContext(tmp_dir = '/nvme/tmp/shusson')"
   ]
  },
  {
   "cell_type": "code",
   "execution_count": 2,
   "metadata": {
    "collapsed": true
   },
   "outputs": [],
   "source": [
    "vds = hc.read('/nvme/tmp/shusson/small_300.vds')"
   ]
  },
  {
   "cell_type": "code",
   "execution_count": 3,
   "metadata": {},
   "outputs": [
    {
     "data": {
      "text/plain": [
       "Summary(samples=2845, variants=74200, call_rate=0.991872, contigs=['X', '12', '8', '19', '4', '15', '11', '9', 'Y', '22', '13', '16', '5', '10', '21', '6', '1', '17', '14', 'MT', '20', '2', '18', '7', '3'], multiallelics=6232, snps=66570, mnps=0, insertions=8307, deletions=9746, complex=0, star=3564, max_alleles=44)"
      ]
     },
     "execution_count": 3,
     "metadata": {},
     "output_type": "execute_result"
    }
   ],
   "source": [
    "vds.summarize()"
   ]
  },
  {
   "cell_type": "code",
   "execution_count": 3,
   "metadata": {},
   "outputs": [],
   "source": [
    "vds = vds.split_multi()"
   ]
  },
  {
   "cell_type": "code",
   "execution_count": 4,
   "metadata": {
    "collapsed": true
   },
   "outputs": [],
   "source": [
    "vds = vds.annotate_variants_expr([\n",
    "        'va.allele = va.alleles[va.aIndex-1]',\n",
    "        'va.extra.wasSplit = va.wasSplit',\n",
    "        'va.extra.nHomVarFemale = gs.filter(s => sa.pheno.isFemale).filter(g => g.isHomVar()).count()',\n",
    "        'va.extra.nHomVarMale = gs.filter(s => !sa.pheno.isFemale).filter(g => g.isHomVar()).count()',\n",
    "        'va.extra.nHomRefFemale = gs.filter(s => sa.pheno.isFemale).filter(g => g.isHomRef()).count()',\n",
    "        'va.extra.nHomRefMale = gs.filter(s => !sa.pheno.isFemale).filter(g => g.isHomRef()).count()'\n",
    "    ]).annotate_variants_expr([\n",
    "        'va.extra.nHomVar = va.extra.nHomVarMale + va.extra.nHomVarFemale',\n",
    "        'va.extra.nHomRef = va.extra.nHomRefMale + va.extra.nHomRefFemale'\n",
    "    ])"
   ]
  },
  {
   "cell_type": "code",
   "execution_count": 5,
   "metadata": {
    "collapsed": true
   },
   "outputs": [],
   "source": [
    "vds = vds.filter_variants_expr('va.allele.metrics.allele_counts.total.toInt() <= 0', keep=False)"
   ]
  },
  {
   "cell_type": "code",
   "execution_count": 6,
   "metadata": {
    "collapsed": true
   },
   "outputs": [],
   "source": [
    "vds = vds.annotate_variants_expr('''\n",
    "    va.extra.nHet = {\n",
    "        total: \n",
    "            if (v.inXNonPar())\n",
    "                (2 * (va.allele.metrics.allele_counts.male - va.extra.nHomVarMale)) + (va.allele.metrics.allele_counts.female - (2 * va.extra.nHomVarFemale))\n",
    "            else if (v.inYNonPar())\n",
    "                2 * (va.allele.metrics.allele_counts.total - va.extra.nHomVar)\n",
    "            else\n",
    "                va.allele.metrics.allele_counts.total - (2 * va.extra.nHomVar)   \n",
    "            }\n",
    "    ''')\n"
   ]
  },
  {
   "cell_type": "code",
   "execution_count": 7,
   "metadata": {
    "collapsed": true
   },
   "outputs": [],
   "source": [
    "vds.write('/nvme/tmp/shusson/sample_stats.vds')"
   ]
  },
  {
   "cell_type": "code",
   "execution_count": null,
   "metadata": {
    "collapsed": true
   },
   "outputs": [],
   "source": []
  }
 ],
 "metadata": {
  "kernelspec": {
   "display_name": "Python 2",
   "language": "python",
   "name": "python2"
  },
  "language_info": {
   "codemirror_mode": {
    "name": "ipython",
    "version": 2
   },
   "file_extension": ".py",
   "mimetype": "text/x-python",
   "name": "python",
   "nbconvert_exporter": "python",
   "pygments_lexer": "ipython2",
   "version": "2.7.13"
  }
 },
 "nbformat": 4,
 "nbformat_minor": 2
}
