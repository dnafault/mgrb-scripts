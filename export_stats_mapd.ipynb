{
 "cells": [
  {
   "cell_type": "code",
   "execution_count": 1,
   "metadata": {},
   "outputs": [
    {
     "name": "stderr",
     "output_type": "stream",
     "text": [
      "Running on Apache Spark version 2.1.0\n",
      "SparkUI available at http://129.94.72.55:4040\n",
      "Welcome to\n",
      "     __  __     <>__\n",
      "    / /_/ /__  __/ /\n",
      "   / __  / _ `/ / /\n",
      "  /_/ /_/\\_,_/_/_/   version 0.1-c72c76d\n"
     ]
    }
   ],
   "source": [
    "from hail import *\n",
    "hc = HailContext(tmp_dir = '/nvme/tmp/shusson')"
   ]
  },
  {
   "cell_type": "code",
   "execution_count": 2,
   "metadata": {
    "collapsed": true
   },
   "outputs": [],
   "source": [
    "vds = hc.read('/nvme/tmp/shusson/mgrb.vds')"
   ]
  },
  {
   "cell_type": "code",
   "execution_count": 3,
   "metadata": {},
   "outputs": [
    {
     "data": {
      "text/plain": [
       "Summary(samples=0, variants=7432, call_rate=nan, contigs=['X', '12', '8', '19', '4', '15', '11', '9', 'Y', '22', '13', '16', '5', '10', '21', '6', '1', '17', '14', '20', '2', '18', '7', '3'], multiallelics=623, snps=6702, mnps=0, insertions=828, deletions=1008, complex=0, star=339, max_alleles=35)"
      ]
     },
     "execution_count": 3,
     "metadata": {},
     "output_type": "execute_result"
    }
   ],
   "source": [
    "vds.summarize()"
   ]
  },
  {
   "cell_type": "code",
   "execution_count": 3,
   "metadata": {
    "collapsed": true
   },
   "outputs": [],
   "source": [
    "split = vds.split_multi().annotate_variants_expr('va.allele = va.alleles[va.aIndex-1]')"
   ]
  },
  {
   "cell_type": "code",
   "execution_count": 4,
   "metadata": {
    "collapsed": true
   },
   "outputs": [],
   "source": [
    "kt=split.variants_table()\n",
    "\n",
    "kt = kt.annotate('VARIANT=v, \\\n",
    "CHROMOSOME=v.contig, \\\n",
    "START=v.start, \\\n",
    "REF=v.ref, \\\n",
    "ALT=v.alt, \\\n",
    "RSID=orElse(va.allele.annotation.rsid, \"\\\\\\N\"), \\\n",
    "AC=va.allele.metrics.allele_counts.total.toInt(), \\\n",
    "AF=if (isMissing(va.allele.metrics.allele_frequencies.total)) \"\\\\\\N\" else str(va.allele.metrics.allele_frequencies.total),\\\n",
    "TYPE=v.altAllele.category(), \\\n",
    "CATO=if (isMissing(va.allele.annotation.predictions.CATO.score)) \"\\\\\\N\" else str(va.allele.annotation.predictions.CATO.score), \\\n",
    "eigen=if (isMissing(va.allele.annotation.predictions.Eigen.EigenRaw)) \"\\\\\\N\" else str(va.allele.annotation.predictions.Eigen.EigenRaw), \\\n",
    "polyPhen=if (isMissing(va.allele.annotation.vep.predictions.PolyPhen)) \"\\\\\\N\" else str(va.allele.annotation.vep.predictions.PolyPhen), \\\n",
    "sift=if (isMissing(va.allele.annotation.vep.predictions.SIFT)) \"\\\\\\N\" else str(va.allele.annotation.vep.predictions.SIFT), \\\n",
    "tgpAF=if (isMissing(va.allele.annotation.freqs.tgp.AF)) \"\\\\\\N\" else str(va.allele.annotation.freqs.tgp.AF), \\\n",
    "hrcAF=if (isMissing(va.allele.annotation.freqs.hrc.AF)) \"\\\\\\N\" else str(va.allele.annotation.freqs.hrc.AF), \\\n",
    "gnomadAF=if (isMissing(va.allele.annotation.freqs.gnomad.AF)) \"\\\\\\N\" else str(va.allele.annotation.freqs.gnomad.AF), \\\n",
    "feature=orElse(va.allele.annotation.vep.consequences.feature.id, \"\\\\\\N\"), \\\n",
    "consequences=orElse(va.allele.annotation.vep.consequences.consequences.mkString(\",\"), \"\\\\\\N\"), \\\n",
    "gene=orElse(va.allele.annotation.vep.cross_references.Ensembl_gene, \"\\\\\\N\"), \\\n",
    "clinvar=orElse(va.allele.annotation.clinvar.ClinicalSignificance.mkString(\",\"), \"\\\\\\N\")')\n",
    "\n",
    "kt = kt.select([u'VARIANT', u'CHROMOSOME', u'START', u'REF', u'ALT', u'RSID', u'AC', u'AF', u'TYPE', 'CATO', 'eigen', 'sift', 'polyPhen', 'tgpAF', 'hrcAF', 'gnomadAF', 'feature', 'consequences', 'gene', 'clinvar'])\n"
   ]
  },
  {
   "cell_type": "code",
   "execution_count": 5,
   "metadata": {},
   "outputs": [
    {
     "name": "stderr",
     "output_type": "stream",
     "text": [
      "2017-10-11 12:20:16 Hail: INFO: while writing:\n",
      "    /nvme/tmp/shusson/mgrb_mapd.tsv\n",
      "  merge time: 21.145s\n"
     ]
    }
   ],
   "source": [
    "kt.export(\"/nvme/tmp/shusson/mgrb_mapd.tsv\")"
   ]
  },
  {
   "cell_type": "code",
   "execution_count": null,
   "metadata": {
    "collapsed": true
   },
   "outputs": [],
   "source": [
    "kt.show()"
   ]
  },
  {
   "cell_type": "code",
   "execution_count": null,
   "metadata": {
    "collapsed": true
   },
   "outputs": [],
   "source": []
  }
 ],
 "metadata": {
  "kernelspec": {
   "display_name": "Python 2",
   "language": "python",
   "name": "python2"
  },
  "language_info": {
   "codemirror_mode": {
    "name": "ipython",
    "version": 2
   },
   "file_extension": ".py",
   "mimetype": "text/x-python",
   "name": "python",
   "nbconvert_exporter": "python",
   "pygments_lexer": "ipython2",
   "version": "2.7.13"
  }
 },
 "nbformat": 4,
 "nbformat_minor": 2
}
