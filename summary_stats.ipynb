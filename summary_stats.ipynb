{
 "cells": [
  {
   "cell_type": "code",
   "execution_count": 1,
   "metadata": {},
   "outputs": [
    {
     "name": "stderr",
     "output_type": "stream",
     "text": [
      "Running on Apache Spark version 2.1.0\n",
      "SparkUI available at http://129.94.72.55:4040\n",
      "Welcome to\n",
      "     __  __     <>__\n",
      "    / /_/ /__  __/ /\n",
      "   / __  / _ `/ / /\n",
      "  /_/ /_/\\_,_/_/_/   version 0.1-c72c76d\n"
     ]
    }
   ],
   "source": [
    "from hail import *\n",
    "hc = HailContext(tmp_dir = '/nvme/tmp/shusson')"
   ]
  },
  {
   "cell_type": "code",
   "execution_count": 2,
   "metadata": {
    "collapsed": true
   },
   "outputs": [],
   "source": [
    "vds = hc.read('/nvme/tmp/shusson/sample.vds')"
   ]
  },
  {
   "cell_type": "code",
   "execution_count": 3,
   "metadata": {},
   "outputs": [
    {
     "data": {
      "text/plain": [
       "Summary(samples=0, variants=7432, call_rate=nan, contigs=['X', '12', '8', '19', '4', '15', '11', '9', 'Y', '22', '13', '16', '5', '10', '21', '6', '1', '17', '14', '20', '2', '18', '7', '3'], multiallelics=623, snps=6702, mnps=0, insertions=828, deletions=1008, complex=0, star=339, max_alleles=35)"
      ]
     },
     "execution_count": 3,
     "metadata": {},
     "output_type": "execute_result"
    }
   ],
   "source": [
    "vds.summarize()"
   ]
  },
  {
   "cell_type": "code",
   "execution_count": 18,
   "metadata": {
    "collapsed": true
   },
   "outputs": [],
   "source": [
    "split = vds.split_multi().annotate_variants_expr('va.allele = va.alleles[va.aIndex-1]')"
   ]
  },
  {
   "cell_type": "code",
   "execution_count": 48,
   "metadata": {
    "collapsed": true
   },
   "outputs": [],
   "source": [
    "kt=split.variants_table()\n",
    "\n",
    "kt = kt.annotate('VARIANT=v, \\\n",
    "CHROMOSOME=v.contig, \\\n",
    "START=v.start, \\\n",
    "REF=v.ref, \\\n",
    "ALT=v.alt, \\\n",
    "RSID=va.allele.annotation.rsid, \\\n",
    "AC=va.allele.metrics.allele_counts.total, \\\n",
    "AF=if (isMissing(va.allele.metrics.allele_frequencies.total)) \"\\\\\\N\" else str(va.allele.metrics.allele_frequencies.total),\\\n",
    "nHomRef=va.genotypes.counts.total[0], \\\n",
    "nHet=va.genotypes.counts.total[1], \\\n",
    "nHomVar=va.genotypes.counts.total[2], \\\n",
    "TYPE=v.altAllele.category(), \\\n",
    "CATO=va.allele.annotation.predictions.CATO.score, \\\n",
    "eigen=va.allele.annotation.predictions.Eigen.EigenRaw, \\\n",
    "tgpAF=va.allele.annotation.freqs.tgp.AF, \\\n",
    "hrcAF=va.allele.annotation.freqs.hrc.AF, \\\n",
    "gnomadAF=va.allele.annotation.freqs.gnomad.AF, \\\n",
    "feature=va.allele.annotation.vep.consequences.feature.id, \\\n",
    "consequences=va.allele.annotation.vep.consequences.consequences.mkString(\",\"), \\\n",
    "gene=va.allele.annotation.vep.cross_references.Ensembl_gene, \\\n",
    "clinvar=va.allele.annotation.clinvar.ClinicalSignificance.mkString(\",\")')\n",
    "\n",
    "kt = kt.select([u'VARIANT', u'CHROMOSOME', u'START', u'REF', u'ALT', u'RSID', u'AC', u'AF', u'nHomRef', u'nHet', u'nHomVar', u'TYPE', 'CATO', 'eigen', 'tgpAF', 'hrcAF', 'gnomadAF', 'feature', 'consequences', 'gene','clinvar'])\n"
   ]
  },
  {
   "cell_type": "code",
   "execution_count": 49,
   "metadata": {},
   "outputs": [
    {
     "name": "stderr",
     "output_type": "stream",
     "text": [
      "2017-10-09 16:55:33 Hail: INFO: while writing:\n",
      "    sample.tsv\n",
      "  merge time: 10.381ms\n"
     ]
    }
   ],
   "source": [
    "kt.export(\"sample.tsv\")"
   ]
  },
  {
   "cell_type": "code",
   "execution_count": 30,
   "metadata": {},
   "outputs": [
    {
     "name": "stdout",
     "output_type": "stream",
     "text": [
      "+---------------------------------------------------------------------------------------------------------------------------------------------------------------------------------------+------------+---------+---------------------------------------------------------------------------------------------------------------------------------------------------------------------------+--------+--------------+-------------+-------------+---------+------+---------+----------+---------+\n",
      "| VARIANT                                                                                                                                                                               | CHROMOSOME |   START | REF                                                                                                                                                                       | ALT    | RSID         |          AC | AF          | nHomRef | nHet | nHomVar | TYPE     | clinvar |\n",
      "+---------------------------------------------------------------------------------------------------------------------------------------------------------------------------------------+------------+---------+---------------------------------------------------------------------------------------------------------------------------------------------------------------------------+--------+--------------+-------------+-------------+---------+------+---------+----------+---------+\n",
      "| Variant                                                                                                                                                                               | String     |     Int | String                                                                                                                                                                    | String | String       |      Double | String      |     Int |  Int |     Int | String   | String  |\n",
      "+---------------------------------------------------------------------------------------------------------------------------------------------------------------------------------------+------------+---------+---------------------------------------------------------------------------------------------------------------------------------------------------------------------------+--------+--------------+-------------+-------------+---------+------+---------+----------+---------+\n",
      "| 1:560671:G:A                                                                                                                                                                          | 1          |  560671 | G                                                                                                                                                                         | A      | NA           | 2.00000e+00 | 4.74158e-04 |    2108 |    0 |       1 | SNP      | NA      |\n",
      "| 1:857009:G:A                                                                                                                                                                          | 1          |  857009 | G                                                                                                                                                                         | A      | rs1017360546 | 1.00000e+00 | 1.75747e-04 |    2843 |    1 |       0 | SNP      | NA      |\n",
      "| 1:965304:CTG:C                                                                                                                                                                        | 1          |  965304 | CTG                                                                                                                                                                       | C      | NA           | 1.00000e+00 | 1.90985e-04 |    2617 |    1 |       0 | Deletion | NA      |\n",
      "| 1:1883432:A:G                                                                                                                                                                         | 1          | 1883432 | A                                                                                                                                                                         | G      | rs765318200  | 1.00000e+00 | 1.75747e-04 |    2844 |    1 |       0 | SNP      | NA      |\n",
      "| 1:1980138:G:C                                                                                                                                                                         | 1          | 1980138 | G                                                                                                                                                                         | C      | NA           | 1.00000e+00 | 1.75747e-04 |    2844 |    1 |       0 | SNP      | NA      |\n",
      "| 1:1999908:C:A                                                                                                                                                                         | 1          | 1999908 | C                                                                                                                                                                         | A      | NA           | 1.00000e+00 | 1.75747e-04 |    2844 |    1 |       0 | SNP      | NA      |\n",
      "| 1:2073385:GCAGCCGAAGCGCCTCCTTTCACTCCAGGGTCCACACATCCAGCAGCCGAAGCGCCTCTTTTCACTCCAGGGTCCACACATCCAGCAGCCGAAGCGCCTCCTTTCAATCCAGGGTCCACACATCCAGCAGCCGAAGCGCCTCCTTTCACTCCAGGGTCCACACATCCAA:G | 1          | 2073385 | GCAGCCGAAGCGCCTCCTTTCACTCCAGGGTCCACACATCCAGCAGCCGAAGCGCCTCTTTTCACTCCAGGGTCCACACATCCAGCAGCCGAAGCGCCTCCTTTCAATCCAGGGTCCACACATCCAGCAGCCGAAGCGCCTCCTTTCACTCCAGGGTCCACACATCCAA | G      | NA           | 1.00000e+00 | 1.75747e-04 |    2844 |    1 |       0 | Deletion | NA      |\n",
      "| 1:2079181:A:T                                                                                                                                                                         | 1          | 2079181 | A                                                                                                                                                                         | T      | rs371694329  | 1.27000e+02 | 2.23670e-02 |    2712 |  127 |       0 | SNP      | NA      |\n",
      "| 1:2353231:GGT:G                                                                                                                                                                       | 1          | 2353231 | GGT                                                                                                                                                                       | G      | NA           | 9.50000e+01 | 1.66960e-02 |    2750 |   95 |       0 | Deletion | NA      |\n",
      "| 1:2604916:C:T                                                                                                                                                                         | 1          | 2604916 | C                                                                                                                                                                         | T      | NA           | 1.00000e+00 | 2.44260e-04 |    2045 |    1 |       0 | SNP      | NA      |\n",
      "+---------------------------------------------------------------------------------------------------------------------------------------------------------------------------------------+------------+---------+---------------------------------------------------------------------------------------------------------------------------------------------------------------------------+--------+--------------+-------------+-------------+---------+------+---------+----------+---------+\n",
      "showing top 10 rows\n",
      "\n"
     ]
    }
   ],
   "source": [
    "kt.show()"
   ]
  },
  {
   "cell_type": "code",
   "execution_count": null,
   "metadata": {
    "collapsed": true
   },
   "outputs": [],
   "source": []
  }
 ],
 "metadata": {
  "kernelspec": {
   "display_name": "Python 2",
   "language": "python",
   "name": "python2"
  },
  "language_info": {
   "codemirror_mode": {
    "name": "ipython",
    "version": 2
   },
   "file_extension": ".py",
   "mimetype": "text/x-python",
   "name": "python",
   "nbconvert_exporter": "python",
   "pygments_lexer": "ipython2",
   "version": "2.7.13"
  }
 },
 "nbformat": 4,
 "nbformat_minor": 2
}
